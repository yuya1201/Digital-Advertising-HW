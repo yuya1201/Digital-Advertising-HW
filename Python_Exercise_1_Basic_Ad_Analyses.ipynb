{
  "nbformat": 4,
  "nbformat_minor": 0,
  "metadata": {
    "colab": {
      "name": "Python Exercise 1: Basic Ad Analyses",
      "provenance": [],
      "collapsed_sections": [],
      "include_colab_link": true
    },
    "kernelspec": {
      "name": "python3",
      "display_name": "Python 3"
    }
  },
  "cells": [
    {
      "cell_type": "markdown",
      "metadata": {
        "id": "view-in-github",
        "colab_type": "text"
      },
      "source": [
        "<a href=\"https://colab.research.google.com/github/yuya1201/Digital-Advertising-HW/blob/master/Python_Exercise_1_Basic_Ad_Analyses.ipynb\" target=\"_parent\"><img src=\"https://colab.research.google.com/assets/colab-badge.svg\" alt=\"Open In Colab\"/></a>"
      ]
    },
    {
      "cell_type": "code",
      "metadata": {
        "id": "2WhxGi8lW4rP",
        "colab_type": "code",
        "colab": {}
      },
      "source": [
        "import pandas as pd\n",
        "import numpy as np\n",
        "import statsmodels.api as sm\n",
        "\n",
        "%matplotlib inline\n",
        "\n",
        "from IPython.core.interactiveshell import InteractiveShell\n",
        "InteractiveShell.ast_node_interactivity = \"all\""
      ],
      "execution_count": 0,
      "outputs": []
    },
    {
      "cell_type": "markdown",
      "metadata": {
        "id": "uvBJDK4YbEyN",
        "colab_type": "text"
      },
      "source": [
        "# **Load CSV**"
      ]
    },
    {
      "cell_type": "code",
      "metadata": {
        "id": "6CoaMDc0YfMo",
        "colab_type": "code",
        "outputId": "205ddde5-1cf3-4434-f02e-9953dbeac861",
        "colab": {
          "base_uri": "https://localhost:8080/",
          "height": 122
        }
      },
      "source": [
        "# import data\n",
        "from google.colab import drive\n",
        "drive.mount('/content/drive')\n",
        "df=pd.read_csv(open('drive/My Drive/Colab Notebooks/Travel Pony Facebook.csv', 'rb'))"
      ],
      "execution_count": 0,
      "outputs": [
        {
          "output_type": "stream",
          "text": [
            "Go to this URL in a browser: https://accounts.google.com/o/oauth2/auth?client_id=947318989803-6bn6qk8qdgf4n4g3pfee6491hc0brc4i.apps.googleusercontent.com&redirect_uri=urn%3Aietf%3Awg%3Aoauth%3A2.0%3Aoob&scope=email%20https%3A%2F%2Fwww.googleapis.com%2Fauth%2Fdocs.test%20https%3A%2F%2Fwww.googleapis.com%2Fauth%2Fdrive%20https%3A%2F%2Fwww.googleapis.com%2Fauth%2Fdrive.photos.readonly%20https%3A%2F%2Fwww.googleapis.com%2Fauth%2Fpeopleapi.readonly&response_type=code\n",
            "\n",
            "Enter your authorization code:\n",
            "··········\n",
            "Mounted at /content/drive\n"
          ],
          "name": "stdout"
        }
      ]
    },
    {
      "cell_type": "code",
      "metadata": {
        "id": "L7wHmwRJaqXZ",
        "colab_type": "code",
        "outputId": "49cf4781-598b-4375-8574-4fa03e62e0cb",
        "colab": {
          "base_uri": "https://localhost:8080/",
          "height": 281
        }
      },
      "source": [
        "df.head(3)"
      ],
      "execution_count": 0,
      "outputs": [
        {
          "output_type": "execute_result",
          "data": {
            "text/html": [
              "<div>\n",
              "<style scoped>\n",
              "    .dataframe tbody tr th:only-of-type {\n",
              "        vertical-align: middle;\n",
              "    }\n",
              "\n",
              "    .dataframe tbody tr th {\n",
              "        vertical-align: top;\n",
              "    }\n",
              "\n",
              "    .dataframe thead th {\n",
              "        text-align: right;\n",
              "    }\n",
              "</style>\n",
              "<table border=\"1\" class=\"dataframe\">\n",
              "  <thead>\n",
              "    <tr style=\"text-align: right;\">\n",
              "      <th></th>\n",
              "      <th>Start Date</th>\n",
              "      <th>End Date</th>\n",
              "      <th>Account</th>\n",
              "      <th>Campaign Name</th>\n",
              "      <th>Reach</th>\n",
              "      <th>Frequency</th>\n",
              "      <th>Impressions</th>\n",
              "      <th>Clicks</th>\n",
              "      <th>Unique Clicks</th>\n",
              "      <th>Amount Spent (USD)</th>\n",
              "      <th>Page Likes</th>\n",
              "      <th>Page Engagement</th>\n",
              "      <th>Post Engagement</th>\n",
              "      <th>Post Likes</th>\n",
              "      <th>Post Comments</th>\n",
              "      <th>Post Shares</th>\n",
              "      <th>Photo Views</th>\n",
              "      <th>Website Clicks</th>\n",
              "      <th>Cost per Page Like (USD)</th>\n",
              "      <th>Cost per Page Engagement (USD)</th>\n",
              "    </tr>\n",
              "  </thead>\n",
              "  <tbody>\n",
              "    <tr>\n",
              "      <th>0</th>\n",
              "      <td>2013-12-02</td>\n",
              "      <td>2013-12-02</td>\n",
              "      <td>Bob Jackson</td>\n",
              "      <td>Cyber Weekend</td>\n",
              "      <td>278117</td>\n",
              "      <td>2.314303</td>\n",
              "      <td>643647</td>\n",
              "      <td>336</td>\n",
              "      <td>313</td>\n",
              "      <td>300.0</td>\n",
              "      <td>3</td>\n",
              "      <td>246</td>\n",
              "      <td>243</td>\n",
              "      <td>0</td>\n",
              "      <td>0</td>\n",
              "      <td>0</td>\n",
              "      <td>0</td>\n",
              "      <td>243</td>\n",
              "      <td>100.0</td>\n",
              "      <td>1.219512</td>\n",
              "    </tr>\n",
              "    <tr>\n",
              "      <th>1</th>\n",
              "      <td>2013-12-01</td>\n",
              "      <td>2013-12-01</td>\n",
              "      <td>Bob Jackson</td>\n",
              "      <td>Cyber Weekend</td>\n",
              "      <td>221255</td>\n",
              "      <td>2.079090</td>\n",
              "      <td>460009</td>\n",
              "      <td>376</td>\n",
              "      <td>348</td>\n",
              "      <td>300.0</td>\n",
              "      <td>6</td>\n",
              "      <td>215</td>\n",
              "      <td>209</td>\n",
              "      <td>0</td>\n",
              "      <td>0</td>\n",
              "      <td>0</td>\n",
              "      <td>0</td>\n",
              "      <td>209</td>\n",
              "      <td>50.0</td>\n",
              "      <td>1.395349</td>\n",
              "    </tr>\n",
              "    <tr>\n",
              "      <th>2</th>\n",
              "      <td>2013-11-30</td>\n",
              "      <td>2013-11-30</td>\n",
              "      <td>Bob Jackson</td>\n",
              "      <td>Cyber Weekend</td>\n",
              "      <td>267915</td>\n",
              "      <td>2.499069</td>\n",
              "      <td>669538</td>\n",
              "      <td>383</td>\n",
              "      <td>345</td>\n",
              "      <td>300.0</td>\n",
              "      <td>2</td>\n",
              "      <td>252</td>\n",
              "      <td>250</td>\n",
              "      <td>0</td>\n",
              "      <td>0</td>\n",
              "      <td>0</td>\n",
              "      <td>0</td>\n",
              "      <td>250</td>\n",
              "      <td>150.0</td>\n",
              "      <td>1.190476</td>\n",
              "    </tr>\n",
              "  </tbody>\n",
              "</table>\n",
              "</div>"
            ],
            "text/plain": [
              "   Start Date  ... Cost per Page Engagement (USD)\n",
              "0  2013-12-02  ...                       1.219512\n",
              "1  2013-12-01  ...                       1.395349\n",
              "2  2013-11-30  ...                       1.190476\n",
              "\n",
              "[3 rows x 20 columns]"
            ]
          },
          "metadata": {
            "tags": []
          },
          "execution_count": 3
        }
      ]
    },
    {
      "cell_type": "code",
      "metadata": {
        "id": "4q1Ky7S_bCgf",
        "colab_type": "code",
        "colab": {}
      },
      "source": [
        "# calculate cost per impression\n",
        "df['costPerImpression']=df['Amount Spent (USD)']/df.Impressions"
      ],
      "execution_count": 0,
      "outputs": []
    },
    {
      "cell_type": "markdown",
      "metadata": {
        "id": "bv77n7DkrYTV",
        "colab_type": "text"
      },
      "source": [
        "# 1. When considering 'cost per impression', **what day of the week works best?** (What day is it cheapest to generate impressions)\n",
        "# **What day works worst?** (What day is most expensive)\n"
      ]
    },
    {
      "cell_type": "code",
      "metadata": {
        "id": "iw5m3vPjdshH",
        "colab_type": "code",
        "colab": {}
      },
      "source": [
        "#dt = arrow.get('2013-12-02', '%Y-%m-%d')\n",
        "df['Start Date']=pd.to_datetime(df['Start Date'])\n",
        "#df['dayweek_n']= df['Start Date'].apply(lambda x: x.dayofweek+1)\n",
        "df['dayweek']= df['Start Date'].apply(lambda x: x.strftime('%a'))"
      ],
      "execution_count": 0,
      "outputs": []
    },
    {
      "cell_type": "code",
      "metadata": {
        "id": "x3YHRawreRr7",
        "colab_type": "code",
        "outputId": "f455c73d-f186-4c72-8213-9b108d43974c",
        "colab": {
          "base_uri": "https://localhost:8080/",
          "height": 102
        }
      },
      "source": [
        "# aggregate cost per impression by day of week using groupby\n",
        "cost1=df.groupby('dayweek')['costPerImpression'].mean()\n",
        "# Best day of week (cheapest)\n",
        "cost1.nsmallest(1)\n",
        "# Worst day of week (most expensive)\n",
        "cost1.nlargest(1)"
      ],
      "execution_count": 0,
      "outputs": [
        {
          "output_type": "execute_result",
          "data": {
            "text/plain": [
              "dayweek\n",
              "Sat    0.002629\n",
              "Name: costPerImpression, dtype: float64"
            ]
          },
          "metadata": {
            "tags": []
          },
          "execution_count": 7
        },
        {
          "output_type": "execute_result",
          "data": {
            "text/plain": [
              "dayweek\n",
              "Fri    0.004097\n",
              "Name: costPerImpression, dtype: float64"
            ]
          },
          "metadata": {
            "tags": []
          },
          "execution_count": 7
        }
      ]
    },
    {
      "cell_type": "code",
      "metadata": {
        "id": "QaOQ0HQwGAJi",
        "colab_type": "code",
        "outputId": "80935956-8684-4f08-92b5-4285a426a415",
        "colab": {
          "base_uri": "https://localhost:8080/",
          "height": 102
        }
      },
      "source": [
        "# use pivot_table\n",
        "cost2=df.pivot_table(index='dayweek',aggfunc='mean').iloc[:,-2]\n",
        "# Best day of week (cheapest)\n",
        "cost2.nsmallest(1)\n",
        "# Worst day of week (most expensive)\n",
        "cost2.nlargest(1)"
      ],
      "execution_count": 0,
      "outputs": [
        {
          "output_type": "execute_result",
          "data": {
            "text/plain": [
              "dayweek\n",
              "Thu    2.101045\n",
              "Name: Website Clicks, dtype: float64"
            ]
          },
          "metadata": {
            "tags": []
          },
          "execution_count": 8
        },
        {
          "output_type": "execute_result",
          "data": {
            "text/plain": [
              "dayweek\n",
              "Sat    3.691383\n",
              "Name: Website Clicks, dtype: float64"
            ]
          },
          "metadata": {
            "tags": []
          },
          "execution_count": 8
        }
      ]
    },
    {
      "cell_type": "markdown",
      "metadata": {
        "id": "Ys4ljOOIrxWD",
        "colab_type": "text"
      },
      "source": [
        "# 2. Next, **compute the correlation** (Links to an external site.) between **Amount Spent** and the following variables:\n",
        "- Reach\n",
        "- Frequency\n",
        "- Unique Clicks\n",
        "- Page Likes"
      ]
    },
    {
      "cell_type": "code",
      "metadata": {
        "id": "q-1iTpjLq0S4",
        "colab_type": "code",
        "outputId": "dcea04db-ae7a-4f7c-c076-1ce2b3cda92d",
        "colab": {
          "base_uri": "https://localhost:8080/",
          "height": 102
        }
      },
      "source": [
        "# df correlations\n",
        "cor=df.corr()\n",
        "cor1=cor.iloc[[0,1,4,6],5]\n",
        "cor1"
      ],
      "execution_count": 0,
      "outputs": [
        {
          "output_type": "execute_result",
          "data": {
            "text/plain": [
              "Reach            0.703124\n",
              "Frequency        0.130201\n",
              "Unique Clicks    0.882993\n",
              "Page Likes       0.757612\n",
              "Name: Amount Spent (USD), dtype: float64"
            ]
          },
          "metadata": {
            "tags": []
          },
          "execution_count": 9
        }
      ]
    },
    {
      "cell_type": "markdown",
      "metadata": {
        "id": "3HEfFJsDwDUh",
        "colab_type": "text"
      },
      "source": [
        "Which correlation is the strongest? What does that mean practically? (respond in a tweet or less)"
      ]
    },
    {
      "cell_type": "code",
      "metadata": {
        "id": "WGJ_35Egqlhg",
        "colab_type": "code",
        "outputId": "218b72c8-3bfc-4f85-e21f-6e529b877b4b",
        "colab": {
          "base_uri": "https://localhost:8080/",
          "height": 51
        }
      },
      "source": [
        "cor1.nlargest(1) # strongest\n",
        "# Unique clicks and costs have a very strong positive relationship. When unique clicks increase, costs also increase."
      ],
      "execution_count": 0,
      "outputs": [
        {
          "output_type": "execute_result",
          "data": {
            "text/plain": [
              "Unique Clicks    0.882993\n",
              "Name: Amount Spent (USD), dtype: float64"
            ]
          },
          "metadata": {
            "tags": []
          },
          "execution_count": 10
        }
      ]
    },
    {
      "cell_type": "markdown",
      "metadata": {
        "id": "h70DqHDmz-SW",
        "colab_type": "text"
      },
      "source": [
        "# 3. Finally, perform a simple **multiple regression analysis** (Links to an external site.) where **Unique Clicks is the dependent variable and Reach and Frequency are the independent (predictor) variables.**\n"
      ]
    },
    {
      "cell_type": "code",
      "metadata": {
        "id": "ESS9suCv6M89",
        "colab_type": "code",
        "outputId": "b7ceb2f5-da99-4fdb-ff3e-d41514731130",
        "colab": {
          "base_uri": "https://localhost:8080/",
          "height": 476
        }
      },
      "source": [
        "# build regression model\n",
        "target=df['Unique Clicks']\n",
        "dep=df[['Reach','Frequency']]\n",
        "mod=sm.OLS(target,dep)\n",
        "res=mod.fit()\n",
        "print(res.summary())"
      ],
      "execution_count": 0,
      "outputs": [
        {
          "output_type": "stream",
          "text": [
            "                                 OLS Regression Results                                \n",
            "=======================================================================================\n",
            "Dep. Variable:          Unique Clicks   R-squared (uncentered):                   0.557\n",
            "Model:                            OLS   Adj. R-squared (uncentered):              0.556\n",
            "Method:                 Least Squares   F-statistic:                              2325.\n",
            "Date:                Wed, 13 Nov 2019   Prob (F-statistic):                        0.00\n",
            "Time:                        23:53:23   Log-Likelihood:                         -15973.\n",
            "No. Observations:                3705   AIC:                                  3.195e+04\n",
            "Df Residuals:                    3703   BIC:                                  3.196e+04\n",
            "Df Model:                           2                                                  \n",
            "Covariance Type:            nonrobust                                                  \n",
            "==============================================================================\n",
            "                 coef    std err          t      P>|t|      [0.025      0.975]\n",
            "------------------------------------------------------------------------------\n",
            "Reach          0.0019   3.12e-05     62.490      0.000       0.002       0.002\n",
            "Frequency      3.6139      0.298     12.109      0.000       3.029       4.199\n",
            "==============================================================================\n",
            "Omnibus:                     5107.616   Durbin-Watson:                   0.803\n",
            "Prob(Omnibus):                  0.000   Jarque-Bera (JB):          5128392.747\n",
            "Skew:                           7.331   Prob(JB):                         0.00\n",
            "Kurtosis:                     184.674   Cond. No.                     9.84e+03\n",
            "==============================================================================\n",
            "\n",
            "Warnings:\n",
            "[1] Standard Errors assume that the covariance matrix of the errors is correctly specified.\n",
            "[2] The condition number is large, 9.84e+03. This might indicate that there are\n",
            "strong multicollinearity or other numerical problems.\n"
          ],
          "name": "stdout"
        }
      ]
    },
    {
      "cell_type": "markdown",
      "metadata": {
        "id": "4_sn8CG80H-w",
        "colab_type": "text"
      },
      "source": [
        "What variable most strongly predicts unique clicks? What does that mean practically? (respond in a tweet or less)"
      ]
    },
    {
      "cell_type": "markdown",
      "metadata": {
        "id": "iJDBVD5YLc1B",
        "colab_type": "text"
      },
      "source": [
        "Frequency most strongly predicts unique clicks, compared to Reach. Frequency has 3.6139 as estimated coefficient while Reach has 0.0019. One unit increasing of Frequency will increase unique clicks by about 4 units. However, one unit increasing of Reach will not affect much on unique clicks.\n",
        "\n",
        "\n"
      ]
    }
  ]
}