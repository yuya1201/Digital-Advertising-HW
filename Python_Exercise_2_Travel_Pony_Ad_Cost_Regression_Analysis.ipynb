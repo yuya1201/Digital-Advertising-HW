{
  "nbformat": 4,
  "nbformat_minor": 0,
  "metadata": {
    "colab": {
      "name": "Python Exercise 2: Travel Pony Ad Cost Regression Analysis.ipynb",
      "provenance": [],
      "collapsed_sections": [],
      "include_colab_link": true
    },
    "kernelspec": {
      "name": "python3",
      "display_name": "Python 3"
    }
  },
  "cells": [
    {
      "cell_type": "markdown",
      "metadata": {
        "id": "view-in-github",
        "colab_type": "text"
      },
      "source": [
        "<a href=\"https://colab.research.google.com/github/yuya1201/Digital-Advertising-HW/blob/master/Python_Exercise_2_Travel_Pony_Ad_Cost_Regression_Analysis.ipynb\" target=\"_parent\"><img src=\"https://colab.research.google.com/assets/colab-badge.svg\" alt=\"Open In Colab\"/></a>"
      ]
    },
    {
      "cell_type": "code",
      "metadata": {
        "id": "9T_488zulOth",
        "colab_type": "code",
        "colab": {}
      },
      "source": [
        "import pandas as pd\n",
        "import numpy as np\n",
        "import statsmodels.api as sm\n",
        "import seaborn as sns\n",
        "%matplotlib inline\n",
        "\n",
        "from IPython.core.interactiveshell import InteractiveShell\n",
        "InteractiveShell.ast_node_interactivity = \"all\""
      ],
      "execution_count": 0,
      "outputs": []
    },
    {
      "cell_type": "markdown",
      "metadata": {
        "id": "_mvh0EaUl6EG",
        "colab_type": "text"
      },
      "source": [
        "# Load Data"
      ]
    },
    {
      "cell_type": "code",
      "metadata": {
        "id": "KsvLZ4zklvLF",
        "colab_type": "code",
        "outputId": "cfcaf9e8-91b0-4ed4-e24d-4a752d728bea",
        "colab": {
          "base_uri": "https://localhost:8080/",
          "height": 125
        }
      },
      "source": [
        "from google.colab import drive\n",
        "drive.mount('/content/drive')\n",
        "df=pd.read_csv(open('drive/My Drive/Colab Notebooks/Travel Pony Facebook.csv', 'rb'))"
      ],
      "execution_count": 0,
      "outputs": [
        {
          "output_type": "stream",
          "text": [
            "Go to this URL in a browser: https://accounts.google.com/o/oauth2/auth?client_id=947318989803-6bn6qk8qdgf4n4g3pfee6491hc0brc4i.apps.googleusercontent.com&redirect_uri=urn%3aietf%3awg%3aoauth%3a2.0%3aoob&response_type=code&scope=email%20https%3a%2f%2fwww.googleapis.com%2fauth%2fdocs.test%20https%3a%2f%2fwww.googleapis.com%2fauth%2fdrive%20https%3a%2f%2fwww.googleapis.com%2fauth%2fdrive.photos.readonly%20https%3a%2f%2fwww.googleapis.com%2fauth%2fpeopleapi.readonly\n",
            "\n",
            "Enter your authorization code:\n",
            "··········\n",
            "Mounted at /content/drive\n"
          ],
          "name": "stdout"
        }
      ]
    },
    {
      "cell_type": "code",
      "metadata": {
        "id": "Bs3XSmullxnd",
        "colab_type": "code",
        "outputId": "9a7447b7-52c8-43e2-9d82-84648cd56610",
        "colab": {
          "base_uri": "https://localhost:8080/",
          "height": 274
        }
      },
      "source": [
        "df.head(3)"
      ],
      "execution_count": 0,
      "outputs": [
        {
          "output_type": "execute_result",
          "data": {
            "text/html": [
              "<div>\n",
              "<style scoped>\n",
              "    .dataframe tbody tr th:only-of-type {\n",
              "        vertical-align: middle;\n",
              "    }\n",
              "\n",
              "    .dataframe tbody tr th {\n",
              "        vertical-align: top;\n",
              "    }\n",
              "\n",
              "    .dataframe thead th {\n",
              "        text-align: right;\n",
              "    }\n",
              "</style>\n",
              "<table border=\"1\" class=\"dataframe\">\n",
              "  <thead>\n",
              "    <tr style=\"text-align: right;\">\n",
              "      <th></th>\n",
              "      <th>Start Date</th>\n",
              "      <th>End Date</th>\n",
              "      <th>Account</th>\n",
              "      <th>Campaign Name</th>\n",
              "      <th>Reach</th>\n",
              "      <th>Frequency</th>\n",
              "      <th>Impressions</th>\n",
              "      <th>Clicks</th>\n",
              "      <th>Unique Clicks</th>\n",
              "      <th>Amount Spent (USD)</th>\n",
              "      <th>Page Likes</th>\n",
              "      <th>Page Engagement</th>\n",
              "      <th>Post Engagement</th>\n",
              "      <th>Post Likes</th>\n",
              "      <th>Post Comments</th>\n",
              "      <th>Post Shares</th>\n",
              "      <th>Photo Views</th>\n",
              "      <th>Website Clicks</th>\n",
              "      <th>Cost per Page Like (USD)</th>\n",
              "      <th>Cost per Page Engagement (USD)</th>\n",
              "    </tr>\n",
              "  </thead>\n",
              "  <tbody>\n",
              "    <tr>\n",
              "      <th>0</th>\n",
              "      <td>2013-12-02</td>\n",
              "      <td>2013-12-02</td>\n",
              "      <td>Bob Jackson</td>\n",
              "      <td>Cyber Weekend</td>\n",
              "      <td>278117</td>\n",
              "      <td>2.314303</td>\n",
              "      <td>643647</td>\n",
              "      <td>336</td>\n",
              "      <td>313</td>\n",
              "      <td>300.0</td>\n",
              "      <td>3</td>\n",
              "      <td>246</td>\n",
              "      <td>243</td>\n",
              "      <td>0</td>\n",
              "      <td>0</td>\n",
              "      <td>0</td>\n",
              "      <td>0</td>\n",
              "      <td>243</td>\n",
              "      <td>100.0</td>\n",
              "      <td>1.219512</td>\n",
              "    </tr>\n",
              "    <tr>\n",
              "      <th>1</th>\n",
              "      <td>2013-12-01</td>\n",
              "      <td>2013-12-01</td>\n",
              "      <td>Bob Jackson</td>\n",
              "      <td>Cyber Weekend</td>\n",
              "      <td>221255</td>\n",
              "      <td>2.079090</td>\n",
              "      <td>460009</td>\n",
              "      <td>376</td>\n",
              "      <td>348</td>\n",
              "      <td>300.0</td>\n",
              "      <td>6</td>\n",
              "      <td>215</td>\n",
              "      <td>209</td>\n",
              "      <td>0</td>\n",
              "      <td>0</td>\n",
              "      <td>0</td>\n",
              "      <td>0</td>\n",
              "      <td>209</td>\n",
              "      <td>50.0</td>\n",
              "      <td>1.395349</td>\n",
              "    </tr>\n",
              "    <tr>\n",
              "      <th>2</th>\n",
              "      <td>2013-11-30</td>\n",
              "      <td>2013-11-30</td>\n",
              "      <td>Bob Jackson</td>\n",
              "      <td>Cyber Weekend</td>\n",
              "      <td>267915</td>\n",
              "      <td>2.499069</td>\n",
              "      <td>669538</td>\n",
              "      <td>383</td>\n",
              "      <td>345</td>\n",
              "      <td>300.0</td>\n",
              "      <td>2</td>\n",
              "      <td>252</td>\n",
              "      <td>250</td>\n",
              "      <td>0</td>\n",
              "      <td>0</td>\n",
              "      <td>0</td>\n",
              "      <td>0</td>\n",
              "      <td>250</td>\n",
              "      <td>150.0</td>\n",
              "      <td>1.190476</td>\n",
              "    </tr>\n",
              "  </tbody>\n",
              "</table>\n",
              "</div>"
            ],
            "text/plain": [
              "   Start Date  ... Cost per Page Engagement (USD)\n",
              "0  2013-12-02  ...                       1.219512\n",
              "1  2013-12-01  ...                       1.395349\n",
              "2  2013-11-30  ...                       1.190476\n",
              "\n",
              "[3 rows x 20 columns]"
            ]
          },
          "metadata": {
            "tags": []
          },
          "execution_count": 4
        }
      ]
    },
    {
      "cell_type": "markdown",
      "metadata": {
        "id": "kyChlzAcpd-3",
        "colab_type": "text"
      },
      "source": [
        "## First, remove rows that have 0 amount spent."
      ]
    },
    {
      "cell_type": "code",
      "metadata": {
        "id": "Wh9Ne4gQpdL7",
        "colab_type": "code",
        "outputId": "fb7ac0d3-baac-41c2-f9ed-52f975cfa27c",
        "colab": {
          "base_uri": "https://localhost:8080/",
          "height": 34
        }
      },
      "source": [
        "df1=df.loc[df['Amount Spent (USD)']!=0]\n",
        "df1.shape"
      ],
      "execution_count": 0,
      "outputs": [
        {
          "output_type": "execute_result",
          "data": {
            "text/plain": [
              "(1802, 20)"
            ]
          },
          "metadata": {
            "tags": []
          },
          "execution_count": 5
        }
      ]
    },
    {
      "cell_type": "markdown",
      "metadata": {
        "id": "4NbHMshGo-2C",
        "colab_type": "text"
      },
      "source": [
        "# **Question 1**"
      ]
    },
    {
      "cell_type": "markdown",
      "metadata": {
        "id": "jOqKnhE2p9NE",
        "colab_type": "text"
      },
      "source": [
        "### Next, graph a histogram of Amount Spent using Seaborn, here's an example:"
      ]
    },
    {
      "cell_type": "code",
      "metadata": {
        "id": "372PeVt2mbh8",
        "colab_type": "code",
        "outputId": "858594c6-b167-4e04-f4ca-73dfb66e99c8",
        "colab": {
          "base_uri": "https://localhost:8080/",
          "height": 296
        }
      },
      "source": [
        "sns.set_style('darkgrid')\n",
        "sns.distplot(df1['Amount Spent (USD)'])"
      ],
      "execution_count": 0,
      "outputs": [
        {
          "output_type": "execute_result",
          "data": {
            "text/plain": [
              "<matplotlib.axes._subplots.AxesSubplot at 0x7f64fdb9d4e0>"
            ]
          },
          "metadata": {
            "tags": []
          },
          "execution_count": 6
        },
        {
          "output_type": "display_data",
          "data": {
            "image/png": "[encoded data removed]",
            "text/plain": [
              "<Figure size 432x288 with 1 Axes>"
            ]
          },
          "metadata": {
            "tags": []
          }
        }
      ]
    },
    {
      "cell_type": "markdown",
      "metadata": {
        "id": "YRvNYkKxGfZg",
        "colab_type": "text"
      },
      "source": [
        "Create scatter plots for spend and: reach, frequency, impressions and clicks. Do you see a linear relationships? As a result, do you think linear regression will work for this problem?"
      ]
    },
    {
      "cell_type": "markdown",
      "metadata": {
        "id": "qIU7S26SOH_4",
        "colab_type": "text"
      },
      "source": [
        "According to scatterplots showing below, spend has ralatively obvious linear relationship with clicks, reach, and impressions, rather than with frequency. In general, I do think linear regression will work for this problem."
      ]
    },
    {
      "cell_type": "code",
      "metadata": {
        "id": "6lBjN_USGri6",
        "colab_type": "code",
        "outputId": "a96fc857-bbbe-4af0-ddad-b87de1a7cb8f",
        "colab": {
          "base_uri": "https://localhost:8080/",
          "height": 296
        }
      },
      "source": [
        "# Reach\n",
        "sns.jointplot(df1['Amount Spent (USD)'],df1.Reach,kind='reg')"
      ],
      "execution_count": 0,
      "outputs": [
        {
          "output_type": "execute_result",
          "data": {
            "text/plain": [
              "<matplotlib.axes._subplots.AxesSubplot at 0x7f64fad4e550>"
            ]
          },
          "metadata": {
            "tags": []
          },
          "execution_count": 16
        },
        {
          "output_type": "display_data",
          "data": {
            "image/png": "[encoded data removed]",
            "text/plain": [
              "<Figure size 432x288 with 1 Axes>"
            ]
          },
          "metadata": {
            "tags": []
          }
        }
      ]
    },
    {
      "cell_type": "code",
      "metadata": {
        "id": "M4H1ixsUIe16",
        "colab_type": "code",
        "outputId": "e2dde1d8-00b7-4901-f172-4746490ec2ec",
        "colab": {
          "base_uri": "https://localhost:8080/",
          "height": 458
        }
      },
      "source": [
        "# Frequency\n",
        "sns.jointplot(df1['Amount Spent (USD)'],df1.Frequency,kind='reg')"
      ],
      "execution_count": 0,
      "outputs": [
        {
          "output_type": "execute_result",
          "data": {
            "text/plain": [
              "<seaborn.axisgrid.JointGrid at 0x7f64fa2a7e48>"
            ]
          },
          "metadata": {
            "tags": []
          },
          "execution_count": 23
        },
        {
          "output_type": "display_data",
          "data": {
            "image/png": "[encoded data removed]",
            "text/plain": [
              "<Figure size 432x432 with 3 Axes>"
            ]
          },
          "metadata": {
            "tags": []
          }
        }
      ]
    },
    {
      "cell_type": "code",
      "metadata": {
        "id": "I-HhZfHvImqY",
        "colab_type": "code",
        "outputId": "9231255a-27c9-4ebe-9484-1b0c46db5eba",
        "colab": {
          "base_uri": "https://localhost:8080/",
          "height": 458
        }
      },
      "source": [
        "# Impressions\n",
        "sns.jointplot(df1['Amount Spent (USD)'],df1.Impressions,kind='reg')"
      ],
      "execution_count": 0,
      "outputs": [
        {
          "output_type": "execute_result",
          "data": {
            "text/plain": [
              "<seaborn.axisgrid.JointGrid at 0x7f64fda3f2e8>"
            ]
          },
          "metadata": {
            "tags": []
          },
          "execution_count": 21
        },
        {
          "output_type": "display_data",
          "data": {
            "image/png": "[encoded data removed]",
            "text/plain": [
              "<Figure size 432x432 with 3 Axes>"
            ]
          },
          "metadata": {
            "tags": []
          }
        }
      ]
    },
    {
      "cell_type": "code",
      "metadata": {
        "id": "IkaoLkNGIu3u",
        "colab_type": "code",
        "outputId": "f1e4c0d4-db74-450a-e8ef-e6ac1d05b338",
        "colab": {
          "base_uri": "https://localhost:8080/",
          "height": 458
        }
      },
      "source": [
        "# Clicks\n",
        "sns.jointplot(df1['Amount Spent (USD)'],df1.Clicks,kind='reg')"
      ],
      "execution_count": 0,
      "outputs": [
        {
          "output_type": "execute_result",
          "data": {
            "text/plain": [
              "<seaborn.axisgrid.JointGrid at 0x7f64fa48f358>"
            ]
          },
          "metadata": {
            "tags": []
          },
          "execution_count": 22
        },
        {
          "output_type": "display_data",
          "data": {
            "image/png": "[encoded data removed]",
            "text/plain": [
              "<Figure size 432x432 with 3 Axes>"
            ]
          },
          "metadata": {
            "tags": []
          }
        }
      ]
    },
    {
      "cell_type": "markdown",
      "metadata": {
        "id": "Wa6zrfrXpGRY",
        "colab_type": "text"
      },
      "source": [
        "# **Question 2**"
      ]
    },
    {
      "cell_type": "code",
      "metadata": {
        "id": "bMl2vebxTkvW",
        "colab_type": "code",
        "outputId": "c7b2fd96-9181-4375-aa0d-9ed8e27cc5c3",
        "colab": {
          "base_uri": "https://localhost:8080/",
          "height": 336
        }
      },
      "source": [
        "df1['Campaign Name']=df1['Campaign Name'].str.replace('[^a-zA-Z0-9:\\s+]', '')\n",
        "df1['Campaign Name']=df1['Campaign Name'].str.replace('\\d+', '')\n",
        "df1.loc[df1['Campaign Name'].str.contains('travelpony',case=False),'Campaign Name']='TravelPony'\n",
        "campaignName=pd.get_dummies(df1['Campaign Name'])"
      ],
      "execution_count": 0,
      "outputs": [
        {
          "output_type": "stream",
          "text": [
            "/usr/local/lib/python3.6/dist-packages/ipykernel_launcher.py:1: SettingWithCopyWarning: \n",
            "A value is trying to be set on a copy of a slice from a DataFrame.\n",
            "Try using .loc[row_indexer,col_indexer] = value instead\n",
            "\n",
            "See the caveats in the documentation: http://pandas.pydata.org/pandas-docs/stable/user_guide/indexing.html#returning-a-view-versus-a-copy\n",
            "  \"\"\"Entry point for launching an IPython kernel.\n",
            "/usr/local/lib/python3.6/dist-packages/ipykernel_launcher.py:2: SettingWithCopyWarning: \n",
            "A value is trying to be set on a copy of a slice from a DataFrame.\n",
            "Try using .loc[row_indexer,col_indexer] = value instead\n",
            "\n",
            "See the caveats in the documentation: http://pandas.pydata.org/pandas-docs/stable/user_guide/indexing.html#returning-a-view-versus-a-copy\n",
            "  \n",
            "/usr/local/lib/python3.6/dist-packages/pandas/core/indexing.py:494: SettingWithCopyWarning: \n",
            "A value is trying to be set on a copy of a slice from a DataFrame.\n",
            "Try using .loc[row_indexer,col_indexer] = value instead\n",
            "\n",
            "See the caveats in the documentation: http://pandas.pydata.org/pandas-docs/stable/user_guide/indexing.html#returning-a-view-versus-a-copy\n",
            "  self.obj[item] = s\n"
          ],
          "name": "stderr"
        }
      ]
    },
    {
      "cell_type": "code",
      "metadata": {
        "id": "EXRt12pEnBQx",
        "colab_type": "code",
        "outputId": "318e714b-ee22-4b5a-8f3d-23944c1db0fa",
        "colab": {
          "base_uri": "https://localhost:8080/",
          "height": 905
        }
      },
      "source": [
        "target=df1['Amount Spent (USD)']\n",
        "df1.iloc[:,3]=df1.iloc[:,3].astype('category')\n",
        "dep=pd.concat([campaignName,df1.iloc[:,4:9],df1.iloc[:,10:18]],axis=1)\n",
        "mod=sm.OLS(target,dep)\n",
        "res=mod.fit()\n",
        "print(res.summary())"
      ],
      "execution_count": 0,
      "outputs": [
        {
          "output_type": "stream",
          "text": [
            "/usr/local/lib/python3.6/dist-packages/pandas/core/indexing.py:494: SettingWithCopyWarning: \n",
            "A value is trying to be set on a copy of a slice from a DataFrame.\n",
            "Try using .loc[row_indexer,col_indexer] = value instead\n",
            "\n",
            "See the caveats in the documentation: http://pandas.pydata.org/pandas-docs/stable/user_guide/indexing.html#returning-a-view-versus-a-copy\n",
            "  self.obj[item] = s\n"
          ],
          "name": "stderr"
        },
        {
          "output_type": "stream",
          "text": [
            "                            OLS Regression Results                            \n",
            "==============================================================================\n",
            "Dep. Variable:     Amount Spent (USD)   R-squared:                       0.928\n",
            "Model:                            OLS   Adj. R-squared:                  0.928\n",
            "Method:                 Least Squares   F-statistic:                     1360.\n",
            "Date:                Tue, 19 Nov 2019   Prob (F-statistic):               0.00\n",
            "Time:                        20:24:41   Log-Likelihood:                -6573.0\n",
            "No. Observations:                1802   AIC:                         1.318e+04\n",
            "Df Residuals:                    1784   BIC:                         1.328e+04\n",
            "Df Model:                          17                                         \n",
            "Covariance Type:            nonrobust                                         \n",
            "==========================================================================================================================\n",
            "                                                             coef    std err          t      P>|t|      [0.025      0.975]\n",
            "--------------------------------------------------------------------------------------------------------------------------\n",
            "Ad                                                         0.1666      3.803      0.044      0.965      -7.292       7.625\n",
            "Cyber Weekend                                           -193.3195     26.951     -7.173      0.000    -246.179    -140.460\n",
            "Nanigans                                                  -2.3150      2.014     -1.149      0.251      -6.266       1.636\n",
            "Post: You need to get some real sun and we are here to   -12.0410      7.576     -1.589      0.112     -26.899       2.817\n",
            "SimpleMultiFillCampaign                                   -0.0647      1.882     -0.034      0.973      -3.756       3.627\n",
            "TravelPony                                                 7.2926      4.253      1.715      0.087      -1.048      15.633\n",
            "Reach                                                      0.0033      0.000     20.921      0.000       0.003       0.004\n",
            "Frequency                                                 -0.7778      1.836     -0.424      0.672      -4.378       2.823\n",
            "Impressions                                               -0.0009   8.41e-05    -10.146      0.000      -0.001      -0.001\n",
            "Clicks                                                    -0.3859      0.113     -3.413      0.001      -0.608      -0.164\n",
            "Unique Clicks                                              0.5155      0.127      4.057      0.000       0.266       0.765\n",
            "Page Likes                                                24.4507      9.359      2.613      0.009       6.096      42.806\n",
            "Page Engagement                                          -21.1451      9.355     -2.260      0.024     -39.494      -2.796\n",
            "Post Engagement                                           18.0241      7.797      2.312      0.021       2.732      33.316\n",
            "Post Likes                                                 2.6100      1.564      1.669      0.095      -0.458       5.678\n",
            "Post Comments                                              3.5949      1.627      2.209      0.027       0.403       6.787\n",
            "Post Shares                                                4.9334      1.588      3.107      0.002       1.819       8.048\n",
            "Photo Views                                                3.3214      1.562      2.126      0.034       0.257       6.385\n",
            "Website Clicks                                             3.5644      1.563      2.281      0.023       0.500       6.629\n",
            "==============================================================================\n",
            "Omnibus:                      796.064   Durbin-Watson:                   1.812\n",
            "Prob(Omnibus):                  0.000   Jarque-Bera (JB):            21680.838\n",
            "Skew:                           1.484   Prob(JB):                         0.00\n",
            "Kurtosis:                      19.732   Cond. No.                     3.51e+18\n",
            "==============================================================================\n",
            "\n",
            "Warnings:\n",
            "[1] Standard Errors assume that the covariance matrix of the errors is correctly specified.\n",
            "[2] The smallest eigenvalue is 1.57e-25. This might indicate that there are\n",
            "strong multicollinearity problems or that the design matrix is singular.\n"
          ],
          "name": "stdout"
        }
      ]
    },
    {
      "cell_type": "markdown",
      "metadata": {
        "id": "cicorFefpOOP",
        "colab_type": "text"
      },
      "source": [
        "# **Question 3**"
      ]
    },
    {
      "cell_type": "code",
      "metadata": {
        "id": "rsqDdclUoKRu",
        "colab_type": "code",
        "outputId": "b8a8bf98-64dc-458f-dc4b-7f18c9d376d0",
        "colab": {
          "base_uri": "https://localhost:8080/",
          "height": 137
        }
      },
      "source": [
        "coefs=pd.concat([res.params,res.pvalues],axis=1)\n",
        "coefs.columns=['coef','p_value']\n",
        "coefs=coefs.loc[coefs.p_value<0.05]\n",
        "coefs['rank']=coefs.coef.rank(method='dense',ascending=False).astype(int)\n",
        "coefs.sort_values('rank').head(3)"
      ],
      "execution_count": 0,
      "outputs": [
        {
          "output_type": "execute_result",
          "data": {
            "text/html": [
              "<div>\n",
              "<style scoped>\n",
              "    .dataframe tbody tr th:only-of-type {\n",
              "        vertical-align: middle;\n",
              "    }\n",
              "\n",
              "    .dataframe tbody tr th {\n",
              "        vertical-align: top;\n",
              "    }\n",
              "\n",
              "    .dataframe thead th {\n",
              "        text-align: right;\n",
              "    }\n",
              "</style>\n",
              "<table border=\"1\" class=\"dataframe\">\n",
              "  <thead>\n",
              "    <tr style=\"text-align: right;\">\n",
              "      <th></th>\n",
              "      <th>coef</th>\n",
              "      <th>p_value</th>\n",
              "      <th>rank</th>\n",
              "    </tr>\n",
              "  </thead>\n",
              "  <tbody>\n",
              "    <tr>\n",
              "      <th>Page Likes</th>\n",
              "      <td>24.450740</td>\n",
              "      <td>0.009060</td>\n",
              "      <td>1</td>\n",
              "    </tr>\n",
              "    <tr>\n",
              "      <th>Post Engagement</th>\n",
              "      <td>18.024142</td>\n",
              "      <td>0.020907</td>\n",
              "      <td>2</td>\n",
              "    </tr>\n",
              "    <tr>\n",
              "      <th>Post Shares</th>\n",
              "      <td>4.933423</td>\n",
              "      <td>0.001920</td>\n",
              "      <td>3</td>\n",
              "    </tr>\n",
              "  </tbody>\n",
              "</table>\n",
              "</div>"
            ],
            "text/plain": [
              "                      coef   p_value  rank\n",
              "Page Likes       24.450740  0.009060     1\n",
              "Post Engagement  18.024142  0.020907     2\n",
              "Post Shares       4.933423  0.001920     3"
            ]
          },
          "metadata": {
            "tags": []
          },
          "execution_count": 13
        }
      ]
    },
    {
      "cell_type": "code",
      "metadata": {
        "id": "HodTmYJUs1tw",
        "colab_type": "code",
        "colab": {}
      },
      "source": [
        ""
      ],
      "execution_count": 0,
      "outputs": []
    }
  ]
}