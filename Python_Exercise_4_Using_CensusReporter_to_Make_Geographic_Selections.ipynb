{
  "nbformat": 4,
  "nbformat_minor": 0,
  "metadata": {
    "colab": {
      "name": "Python Exercise 4: Using CensusReporter to Make Geographic Selections.ipynb",
      "provenance": [],
      "collapsed_sections": [],
      "include_colab_link": true
    },
    "kernelspec": {
      "name": "python3",
      "display_name": "Python 3"
    }
  },
  "cells": [
    {
      "cell_type": "markdown",
      "metadata": {
        "id": "view-in-github",
        "colab_type": "text"
      },
      "source": [
        "<a href=\"https://colab.research.google.com/github/yuya1201/Digital-Advertising-HW/blob/master/Python_Exercise_4_Using_CensusReporter_to_Make_Geographic_Selections.ipynb\" target=\"_parent\"><img src=\"https://colab.research.google.com/assets/colab-badge.svg\" alt=\"Open In Colab\"/></a>"
      ]
    },
    {
      "cell_type": "code",
      "metadata": {
        "id": "re1gXoBDPvQ4",
        "colab_type": "code",
        "outputId": "e24e7dfa-9d83-439f-b6be-a8aae8e11620",
        "colab": {
          "base_uri": "https://localhost:8080/",
          "height": 34
        }
      },
      "source": [
        "import pandas as pd\n",
        "import requests\n",
        "import json\n",
        "import urllib\n",
        "from urllib.request import Request,urlopen\n",
        "from google.colab import drive\n",
        "drive.mount('/content/drive')"
      ],
      "execution_count": 0,
      "outputs": [
        {
          "output_type": "stream",
          "text": [
            "Drive already mounted at /content/drive; to attempt to forcibly remount, call drive.mount(\"/content/drive\", force_remount=True).\n"
          ],
          "name": "stdout"
        }
      ]
    },
    {
      "cell_type": "code",
      "metadata": {
        "id": "G40_J2X2SDUU",
        "colab_type": "code",
        "outputId": "32bad0ab-9050-49a5-bb7f-4a3c90316c15",
        "colab": {
          "base_uri": "https://localhost:8080/",
          "height": 202
        }
      },
      "source": [
        "# load data\n",
        "df=pd.read_csv('drive/My Drive/Colab Notebooks/msas.csv')\n",
        "df.head()"
      ],
      "execution_count": 0,
      "outputs": [
        {
          "output_type": "execute_result",
          "data": {
            "text/html": [
              "<div>\n",
              "<style scoped>\n",
              "    .dataframe tbody tr th:only-of-type {\n",
              "        vertical-align: middle;\n",
              "    }\n",
              "\n",
              "    .dataframe tbody tr th {\n",
              "        vertical-align: top;\n",
              "    }\n",
              "\n",
              "    .dataframe thead th {\n",
              "        text-align: right;\n",
              "    }\n",
              "</style>\n",
              "<table border=\"1\" class=\"dataframe\">\n",
              "  <thead>\n",
              "    <tr style=\"text-align: right;\">\n",
              "      <th></th>\n",
              "      <th>CBSA</th>\n",
              "      <th>NAME</th>\n",
              "      <th>POPESTIMATE2017</th>\n",
              "    </tr>\n",
              "  </thead>\n",
              "  <tbody>\n",
              "    <tr>\n",
              "      <th>0</th>\n",
              "      <td>10180</td>\n",
              "      <td>Abilene, TX</td>\n",
              "      <td>170219</td>\n",
              "    </tr>\n",
              "    <tr>\n",
              "      <th>1</th>\n",
              "      <td>10420</td>\n",
              "      <td>Akron, OH</td>\n",
              "      <td>703505</td>\n",
              "    </tr>\n",
              "    <tr>\n",
              "      <th>2</th>\n",
              "      <td>10500</td>\n",
              "      <td>Albany, GA</td>\n",
              "      <td>151434</td>\n",
              "    </tr>\n",
              "    <tr>\n",
              "      <th>3</th>\n",
              "      <td>10540</td>\n",
              "      <td>Albany, OR</td>\n",
              "      <td>125047</td>\n",
              "    </tr>\n",
              "    <tr>\n",
              "      <th>4</th>\n",
              "      <td>10580</td>\n",
              "      <td>Albany-Schenectady-Troy, NY</td>\n",
              "      <td>886188</td>\n",
              "    </tr>\n",
              "  </tbody>\n",
              "</table>\n",
              "</div>"
            ],
            "text/plain": [
              "    CBSA                         NAME  POPESTIMATE2017\n",
              "0  10180                  Abilene, TX           170219\n",
              "1  10420                    Akron, OH           703505\n",
              "2  10500                   Albany, GA           151434\n",
              "3  10540                   Albany, OR           125047\n",
              "4  10580  Albany-Schenectady-Troy, NY           886188"
            ]
          },
          "metadata": {
            "tags": []
          },
          "execution_count": 93
        }
      ]
    },
    {
      "cell_type": "code",
      "metadata": {
        "id": "MT3keWFwZUOE",
        "colab_type": "code",
        "colab": {}
      },
      "source": [
        "# dived data into half and half\n",
        "geoid='31000US'+df.CBSA.astype('str')\n",
        "h1=geoid[:len(geoid)//2]\n",
        "h2=geoid[len(geoid)//2:]\n",
        "\n",
        "h1=','.join(h1)\n",
        "h2=','.join(h2)"
      ],
      "execution_count": 0,
      "outputs": []
    },
    {
      "cell_type": "markdown",
      "metadata": {
        "id": "_bqrhzXyUhTn",
        "colab_type": "text"
      },
      "source": [
        "# 1. What city has the highest count of the audience you chose for parameter #1?\n",
        "\n",
        "### Knowing that we're going after Organic consumers, what average HH income should we choose?  \n",
        "\n",
        "We could pick columns $50k to 74.9k 'B19001011' and 'b19001012'.\n",
        "\n",
        "\n",
        "According to the calculation below, New York-Newark-Jersey City, NY-NJ-PA has the highest count of average house hold income that ranged between 50k to 74.9k, which is 1.01121e+06.\n"
      ]
    },
    {
      "cell_type": "code",
      "metadata": {
        "id": "6bV9oPh5VBwl",
        "colab_type": "code",
        "colab": {}
      },
      "source": [
        "# first parameter\n",
        "tableid1=['B19001']\n",
        "tableidstring1=','.join(tableid1)\n",
        "# iterate throuth first half data and get right data\n",
        "requesturl11 = 'http://api.censusreporter.org/1.0/data/show/latest?table_ids=%s&geo_ids=%s' % (tableidstring1, h1)\n",
        "loadedjson11 = requests.get(requesturl11)\n",
        "parsedjson11 = json.loads(loadedjson11.text)\n",
        "# iterate throuth second half data and get right data\n",
        "requesturl12 = 'http://api.censusreporter.org/1.0/data/show/latest?table_ids=%s&geo_ids=%s' % (tableidstring1, h2)\n",
        "loadedjson12 = requests.get(requesturl12)\n",
        "parsedjson12 = json.loads(loadedjson12.text)"
      ],
      "execution_count": 0,
      "outputs": []
    },
    {
      "cell_type": "code",
      "metadata": {
        "id": "vJc2_2wfe3X_",
        "colab_type": "code",
        "colab": {}
      },
      "source": [
        "# create a new dataframe\n",
        "df1=pd.DataFrame(columns=['country','population'],index=list(range(1,len(geoid))))"
      ],
      "execution_count": 0,
      "outputs": []
    },
    {
      "cell_type": "code",
      "metadata": {
        "id": "vvxszq65jcPF",
        "colab_type": "code",
        "colab": {}
      },
      "source": [
        "# put first half data into the new dataframe\n",
        "for i in list(range(1,len(geoid)//2)):\n",
        "  df1['country'][i]=geoid[i]\n",
        "  df1['population'][i]=parsedjson11['data'][geoid[i]]['B19001']['estimate']['B19001011']+parsedjson11['data'][geoid[i]]['B19001']['estimate']['B19001012']"
      ],
      "execution_count": 0,
      "outputs": []
    },
    {
      "cell_type": "code",
      "metadata": {
        "id": "BgzD8xrjpTZc",
        "colab_type": "code",
        "colab": {}
      },
      "source": [
        "# put second half data into the new dataframe\n",
        "for i in list(range(len(geoid)//2,len(geoid))):\n",
        "  df1['country'][i]=geoid[i]\n",
        "  df1['population'][i]=parsedjson12['data'][geoid[i]]['B19001']['estimate']['B19001011']+parsedjson12['data'][geoid[i]]['B19001']['estimate']['B19001012']"
      ],
      "execution_count": 0,
      "outputs": []
    },
    {
      "cell_type": "code",
      "metadata": {
        "id": "BnU-fRkXpjPo",
        "colab_type": "code",
        "outputId": "84d94446-31c2-43f2-cd81-f613789c1c3b",
        "colab": {
          "base_uri": "https://localhost:8080/",
          "height": 52
        }
      },
      "source": [
        "# find the country with CBSA code\n",
        "print(df1.loc[df1.population==max(df1.population)])"
      ],
      "execution_count": 0,
      "outputs": [
        {
          "output_type": "stream",
          "text": [
            "          country   population\n",
            "249  31000US35620  1.01121e+06\n"
          ],
          "name": "stdout"
        }
      ]
    },
    {
      "cell_type": "code",
      "metadata": {
        "id": "ioDGuF3Ev_P9",
        "colab_type": "code",
        "outputId": "c5abb73c-3ef3-4fba-add9-d91c3d3c3c1e",
        "colab": {
          "base_uri": "https://localhost:8080/",
          "height": 52
        }
      },
      "source": [
        "# find the location using CBSA code\n",
        "print(df.loc[df.CBSA==35620])"
      ],
      "execution_count": 0,
      "outputs": [
        {
          "output_type": "stream",
          "text": [
            "      CBSA                                   NAME  POPESTIMATE2017\n",
            "249  35620  New York-Newark-Jersey City, NY-NJ-PA         20320876\n"
          ],
          "name": "stdout"
        }
      ]
    },
    {
      "cell_type": "markdown",
      "metadata": {
        "id": "CvSQ_Qq1Uoay",
        "colab_type": "text"
      },
      "source": [
        "# 2. What city has the highest count of the audience you chose for parameter #2?\n",
        "\n",
        "### What age range should we target?\n",
        "\n",
        "We could choose age range 18-34:  \n",
        "'B01001007','B01001008','B01001009','B01001010','B01001011','B01001012'\n",
        "  \n",
        "\n",
        "Based on the calculation down below, New York-Newark-Jersey City, NY-NJ-PA has the highest count of age range 18-34, which is 2.33054e+06."
      ]
    },
    {
      "cell_type": "code",
      "metadata": {
        "id": "Xn__u_1zpiQO",
        "colab_type": "code",
        "colab": {}
      },
      "source": [
        "# second parameter\n",
        "tableid2=['B01001']\n",
        "tableidstring2=','.join(tableid2)\n",
        "# iterate throuth first half data and get right data\n",
        "requesturl21 = 'http://api.censusreporter.org/1.0/data/show/latest?table_ids=%s&geo_ids=%s' % (tableidstring2, h1)\n",
        "loadedjson21 = requests.get(requesturl21)\n",
        "parsedjson21 = json.loads(loadedjson21.text)\n",
        "parsedjson11 = json.loads(loadedjson11.text)\n",
        "# iterate throuth second half data and get right data\n",
        "requesturl22 = 'http://api.censusreporter.org/1.0/data/show/latest?table_ids=%s&geo_ids=%s' % (tableidstring2, h2)\n",
        "loadedjson22 = requests.get(requesturl22)\n",
        "parsedjson22 = json.loads(loadedjson22.text)"
      ],
      "execution_count": 0,
      "outputs": []
    },
    {
      "cell_type": "code",
      "metadata": {
        "colab_type": "code",
        "id": "Qcx-PuLDvpkL",
        "colab": {}
      },
      "source": [
        "# create a list of choosed censuses\n",
        "agerange=['B01001007','B01001008','B01001009','B01001010','B01001011','B01001012']\n",
        "# create a new dataframe\n",
        "df2=pd.DataFrame(columns=['location','population'],index=list(range(1,len(geoid))))"
      ],
      "execution_count": 0,
      "outputs": []
    },
    {
      "cell_type": "code",
      "metadata": {
        "id": "dqpoqlMMVCU1",
        "colab_type": "code",
        "colab": {}
      },
      "source": [
        "# put first half data into the new dataframe\n",
        "for i in list(range(1,len(geoid)//2)):\n",
        "  df2['location'][i]=geoid[i]\n",
        "  df2['population'][i]=parsedjson21['data'][geoid[i]]['B01001']['estimate'][agerange[0]]+ \\\n",
        "    parsedjson21['data'][geoid[i]]['B01001']['estimate'][agerange[1]]+ \\\n",
        "    parsedjson21['data'][geoid[i]]['B01001']['estimate'][agerange[2]]+ \\\n",
        "    parsedjson21['data'][geoid[i]]['B01001']['estimate'][agerange[3]]+ \\\n",
        "    parsedjson21['data'][geoid[i]]['B01001']['estimate'][agerange[4]]+ \\\n",
        "    parsedjson21['data'][geoid[i]]['B01001']['estimate'][agerange[5]]\n",
        "# put second half data into the new dataframe\n",
        "for i in list(range(len(geoid)//2,len(geoid))):\n",
        "  df2['location'][i]=geoid[i]\n",
        "  df2['population'][i]=parsedjson22['data'][geoid[i]]['B01001']['estimate'][agerange[0]]+ \\\n",
        "    parsedjson22['data'][geoid[i]]['B01001']['estimate'][agerange[1]]+ \\\n",
        "    parsedjson22['data'][geoid[i]]['B01001']['estimate'][agerange[2]]+ \\\n",
        "    parsedjson22['data'][geoid[i]]['B01001']['estimate'][agerange[3]]+ \\\n",
        "    parsedjson22['data'][geoid[i]]['B01001']['estimate'][agerange[4]]+ \\\n",
        "    parsedjson22['data'][geoid[i]]['B01001']['estimate'][agerange[5]]"
      ],
      "execution_count": 0,
      "outputs": []
    },
    {
      "cell_type": "code",
      "metadata": {
        "id": "4jhWHyfR2NmY",
        "colab_type": "code",
        "outputId": "b1947e5a-f2fa-4a16-d450-f518f881b003",
        "colab": {
          "base_uri": "https://localhost:8080/",
          "height": 52
        }
      },
      "source": [
        "# find the country with CBSA code\n",
        "print(df2.loc[df2.population==max(df2.population)])"
      ],
      "execution_count": 0,
      "outputs": [
        {
          "output_type": "stream",
          "text": [
            "         location   population\n",
            "249  31000US35620  2.33054e+06\n"
          ],
          "name": "stdout"
        }
      ]
    },
    {
      "cell_type": "code",
      "metadata": {
        "id": "4ns8IIIL3J1m",
        "colab_type": "code",
        "outputId": "161f2fab-0443-47e6-a088-a80df7916bc1",
        "colab": {
          "base_uri": "https://localhost:8080/",
          "height": 52
        }
      },
      "source": [
        "# find the location using CBSA code\n",
        "print(df.loc[df.CBSA==35620])"
      ],
      "execution_count": 0,
      "outputs": [
        {
          "output_type": "stream",
          "text": [
            "      CBSA                                   NAME  POPESTIMATE2017\n",
            "249  35620  New York-Newark-Jersey City, NY-NJ-PA         20320876\n"
          ],
          "name": "stdout"
        }
      ]
    },
    {
      "cell_type": "markdown",
      "metadata": {
        "id": "8y7Y3y0pUxYB",
        "colab_type": "text"
      },
      "source": [
        "# 3. What city has the highest mean percentage across all three categories?\n",
        "\n",
        "### Should we look for areas with large Hispanic populations?\n",
        "\n",
        "The hispanic code would be B03003003.\n",
        "\n",
        "According to the calculation down below,  Los Angeles-Long Beach-Anaheim, CA has the highest count of hispanic, which is 6.00354e+06.\n"
      ]
    },
    {
      "cell_type": "code",
      "metadata": {
        "id": "sqTSb-RGVC25",
        "colab_type": "code",
        "colab": {}
      },
      "source": [
        "# third parameter\n",
        "tableid3=['B03003']\n",
        "tableidstring3=','.join(tableid3)\n",
        "# iterate throuth first half data and get right data\n",
        "requesturl31 = 'http://api.censusreporter.org/1.0/data/show/latest?table_ids=%s&geo_ids=%s' % (tableidstring3, h1)\n",
        "loadedjson31 = requests.get(requesturl31)\n",
        "parsedjson31 = json.loads(loadedjson31.text)\n",
        "# iterate throuth second half data and get right data\n",
        "requesturl32 = 'http://api.censusreporter.org/1.0/data/show/latest?table_ids=%s&geo_ids=%s' % (tableidstring3, h2)\n",
        "loadedjson32 = requests.get(requesturl32)\n",
        "parsedjson32 = json.loads(loadedjson32.text)"
      ],
      "execution_count": 0,
      "outputs": []
    },
    {
      "cell_type": "code",
      "metadata": {
        "id": "9OmMV-X66uH-",
        "colab_type": "code",
        "colab": {}
      },
      "source": [
        "df3=pd.DataFrame(columns=['location','population'],index=list(range(1,len(geoid))))"
      ],
      "execution_count": 0,
      "outputs": []
    },
    {
      "cell_type": "code",
      "metadata": {
        "id": "b_qkBtrm7dVn",
        "colab_type": "code",
        "colab": {}
      },
      "source": [
        "# put first half data into the new dataframe\n",
        "for i in list(range(1,len(geoid)//2)):\n",
        "  df3['location'][i]=geoid[i]\n",
        "  df3['population'][i]=parsedjson31['data'][geoid[i]]['B03003']['estimate']['B03003003']\n",
        "# put second half data into the new dataframe\n",
        "for i in list(range(len(geoid)//2,len(geoid))):\n",
        "  df3['location'][i]=geoid[i]\n",
        "  df3['population'][i]=parsedjson32['data'][geoid[i]]['B03003']['estimate']['B03003003']"
      ],
      "execution_count": 0,
      "outputs": []
    },
    {
      "cell_type": "code",
      "metadata": {
        "id": "ixlcMBH17p-P",
        "colab_type": "code",
        "outputId": "98aefca0-c5f4-4133-d851-820309b1b8e7",
        "colab": {
          "base_uri": "https://localhost:8080/",
          "height": 52
        }
      },
      "source": [
        "# find the country with CBSA code\n",
        "print(df3.loc[df3.population==max(df3.population)])"
      ],
      "execution_count": 0,
      "outputs": [
        {
          "output_type": "stream",
          "text": [
            "         location   population\n",
            "210  31000US31080  6.00354e+06\n"
          ],
          "name": "stdout"
        }
      ]
    },
    {
      "cell_type": "code",
      "metadata": {
        "id": "ddCNX9ca9Otw",
        "colab_type": "code",
        "outputId": "c1047b28-2a02-4dde-978d-320180ef5ac4",
        "colab": {
          "base_uri": "https://localhost:8080/",
          "height": 52
        }
      },
      "source": [
        "# find the location using CBSA code\n",
        "print(df.loc[df.CBSA==31080])"
      ],
      "execution_count": 0,
      "outputs": [
        {
          "output_type": "stream",
          "text": [
            "      CBSA                                NAME  POPESTIMATE2017\n",
            "210  31080  Los Angeles-Long Beach-Anaheim, CA         13353907\n"
          ],
          "name": "stdout"
        }
      ]
    },
    {
      "cell_type": "markdown",
      "metadata": {
        "id": "QCZIw9cE9rz_",
        "colab_type": "text"
      },
      "source": [
        "# 4. What city has the highest mean percentage across all three categories?\n",
        "\n",
        "New York-Newark-Jersey City, NY-NJ-PA has the highest percentage across all three categories, which is 0.940082."
      ]
    },
    {
      "cell_type": "code",
      "metadata": {
        "id": "NT8BmxiE9YIE",
        "colab_type": "code",
        "colab": {}
      },
      "source": [
        "# create list for eaach question above\n",
        "q1_percent = []\n",
        "q2_percent = []\n",
        "q3_percent = []\n",
        "# calculate percentages and put each of them into the corresponding list.\n",
        "for i, row in df1.iterrows():\n",
        "  q1_percent.append(df1.population[i] / max(df1.population))\n",
        "  q2_percent.append(df2.population[i] / max(df2.population))\n",
        "  q3_percent.append(df3.population[i] / max(df3.population))"
      ],
      "execution_count": 0,
      "outputs": []
    },
    {
      "cell_type": "code",
      "metadata": {
        "id": "m6_MR58Z-8Dv",
        "colab_type": "code",
        "colab": {}
      },
      "source": [
        "# combine the list with corresponding dataframe.\n",
        "df1['percentage'] = q1_percent\n",
        "df2['percentage'] = q2_percent\n",
        "df3['percentage'] = q3_percent"
      ],
      "execution_count": 0,
      "outputs": []
    },
    {
      "cell_type": "code",
      "metadata": {
        "id": "v8Ibq6D1_Le-",
        "colab_type": "code",
        "colab": {}
      },
      "source": [
        "# calculate percentage mean\n",
        "percentmean = []\n",
        "for i, row in df1.iterrows():\n",
        "  mean = (df1.percentage[i] + df2.percentage[i] + df3.percentage[i]) / 3\n",
        "  percentmean.append(mean)\n",
        "df1['percentage mean'] = percentmean"
      ],
      "execution_count": 0,
      "outputs": []
    },
    {
      "cell_type": "code",
      "metadata": {
        "id": "T9vZshBT_4Dw",
        "colab_type": "code",
        "outputId": "b09a5ea1-e5e8-4c3c-c51b-7658dbbac0ed",
        "colab": {
          "base_uri": "https://localhost:8080/",
          "height": 52
        }
      },
      "source": [
        "# find the record with largest percentage mean\n",
        "print(df1.loc[df1['percentage mean'] == max(df1['percentage mean'])])"
      ],
      "execution_count": 0,
      "outputs": [
        {
          "output_type": "stream",
          "text": [
            "          country   population  percentage  percenage mean  percentage mean\n",
            "249  31000US35620  1.01121e+06         1.0        0.940082         0.940082\n"
          ],
          "name": "stdout"
        }
      ]
    },
    {
      "cell_type": "code",
      "metadata": {
        "id": "2cjZw7-rAFNM",
        "colab_type": "code",
        "outputId": "8dc0eeae-f1ea-4dc1-b577-7730af877fe0",
        "colab": {
          "base_uri": "https://localhost:8080/",
          "height": 52
        }
      },
      "source": [
        "# find the location with the largest percentage mean\n",
        "print(df.loc[df.CBSA == 35620])"
      ],
      "execution_count": 0,
      "outputs": [
        {
          "output_type": "stream",
          "text": [
            "      CBSA                                   NAME  POPESTIMATE2017\n",
            "249  35620  New York-Newark-Jersey City, NY-NJ-PA         20320876\n"
          ],
          "name": "stdout"
        }
      ]
    }
  ]
}